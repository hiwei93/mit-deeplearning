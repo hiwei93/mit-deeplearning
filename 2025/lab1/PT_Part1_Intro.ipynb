{
  "cells": [
    {
      "cell_type": "markdown",
      "metadata": {
        "id": "view-in-github",
        "colab_type": "text"
      },
      "source": [
        "<a href=\"https://colab.research.google.com/github/hiwei93/mit-deeplearning/blob/main/2025/lab1/PT_Part1_Intro.ipynb\" target=\"_parent\"><img src=\"https://colab.research.google.com/assets/colab-badge.svg\" alt=\"Open In Colab\"/></a>"
      ]
    },
    {
      "cell_type": "markdown",
      "metadata": {
        "id": "WBk0ZDWY-ff8"
      },
      "source": [
        "<table align=\"center\">\n",
        "  <td align=\"center\"><a target=\"_blank\" href=\"http://introtodeeplearning.com\">\n",
        "        <img src=\"https://i.ibb.co/Jr88sn2/mit.png\" style=\"padding-bottom:5px;\" />\n",
        "      Visit MIT Deep Learning</a></td>\n",
        "  <td align=\"center\"><a target=\"_blank\" href=\"https://colab.research.google.com/github/MITDeepLearning/introtodeeplearning/blob/master/lab1/PT_Part1_Intro.ipynb\">\n",
        "        <img src=\"https://i.ibb.co/2P3SLwK/colab.png\"  style=\"padding-bottom:5px;\" />Run in Google Colab</a></td>\n",
        "  <td align=\"center\"><a target=\"_blank\" href=\"https://github.com/MITDeepLearning/introtodeeplearning/blob/master/lab1/PT_Part1_Intro.ipynb\">\n",
        "        <img src=\"https://i.ibb.co/xfJbPmL/github.png\"  height=\"70px\" style=\"padding-bottom:5px;\"  />View Source on GitHub</a></td>\n",
        "</table>\n",
        "\n",
        "# Copyright Information\n"
      ]
    },
    {
      "cell_type": "code",
      "execution_count": null,
      "metadata": {
        "id": "3eI6DUic-6jo"
      },
      "outputs": [],
      "source": [
        "# Copyright 2025 MIT Introduction to Deep Learning. All Rights Reserved.\n",
        "#\n",
        "# Licensed under the MIT License. You may not use this file except in compliance\n",
        "# with the License. Use and/or modification of this code outside of MIT Introduction\n",
        "# to Deep Learning must reference:\n",
        "#\n",
        "# © MIT Introduction to Deep Learning\n",
        "# http://introtodeeplearning.com\n",
        "#"
      ]
    },
    {
      "cell_type": "markdown",
      "metadata": {
        "id": "57knM8jrYZ2t"
      },
      "source": [
        "# Lab 1: Intro to PyTorch and Music Generation with RNNs\n",
        "\n",
        "In this lab, you'll get exposure to using PyTorch and learn how it can be used for deep learning. Go through the code and run each cell. Along the way, you'll encounter several ***TODO*** blocks -- follow the instructions to fill them out before running those cells and continuing.\n",
        "\n",
        "\n",
        "# Part 1: Intro to PyTorch\n",
        "\n",
        "## 0.1 Install PyTorch\n",
        "\n",
        "[PyTorch](https://pytorch.org/) is a popular deep learning library known for its flexibility and ease of use. Here we'll learn how computations are represented and how to define a simple neural network in PyTorch. For all the labs in Introduction to Deep Learning 2025, there will be a PyTorch version available.\n",
        "\n",
        "Let's install PyTorch and a couple of dependencies."
      ]
    },
    {
      "cell_type": "code",
      "execution_count": 1,
      "metadata": {
        "id": "LkaimNJfYZ2w",
        "outputId": "89622929-e143-463d-df1a-cf169b72a646",
        "colab": {
          "base_uri": "https://localhost:8080/"
        }
      },
      "outputs": [
        {
          "output_type": "stream",
          "name": "stdout",
          "text": [
            "\u001b[?25l     \u001b[90m━━━━━━━━━━━━━━━━━━━━━━━━━━━━━━━━━━━━━━━━\u001b[0m \u001b[32m0.0/2.8 MB\u001b[0m \u001b[31m?\u001b[0m eta \u001b[36m-:--:--\u001b[0m\r\u001b[2K     \u001b[91m━━\u001b[0m\u001b[90m╺\u001b[0m\u001b[90m━━━━━━━━━━━━━━━━━━━━━━━━━━━━━━━━━━━━━\u001b[0m \u001b[32m0.2/2.8 MB\u001b[0m \u001b[31m4.9 MB/s\u001b[0m eta \u001b[36m0:00:01\u001b[0m\r\u001b[2K     \u001b[91m━━━━━━━━━━━━━━━━━━━\u001b[0m\u001b[91m╸\u001b[0m\u001b[90m━━━━━━━━━━━━━━━━━━━━\u001b[0m \u001b[32m1.4/2.8 MB\u001b[0m \u001b[31m19.4 MB/s\u001b[0m eta \u001b[36m0:00:01\u001b[0m\r\u001b[2K     \u001b[91m━━━━━━━━━━━━━━━━━━━━━━━━━━━━━━━━━━━━━━━\u001b[0m\u001b[91m╸\u001b[0m \u001b[32m2.8/2.8 MB\u001b[0m \u001b[31m32.8 MB/s\u001b[0m eta \u001b[36m0:00:01\u001b[0m\r\u001b[2K     \u001b[90m━━━━━━━━━━━━━━━━━━━━━━━━━━━━━━━━━━━━━━━━\u001b[0m \u001b[32m2.8/2.8 MB\u001b[0m \u001b[31m25.2 MB/s\u001b[0m eta \u001b[36m0:00:00\u001b[0m\n",
            "\u001b[?25h  Preparing metadata (setup.py) ... \u001b[?25l\u001b[?25hdone\n",
            "\u001b[2K     \u001b[90m━━━━━━━━━━━━━━━━━━━━━━━━━━━━━━━━━━━━━━━━\u001b[0m \u001b[32m149.3/149.3 kB\u001b[0m \u001b[31m10.5 MB/s\u001b[0m eta \u001b[36m0:00:00\u001b[0m\n",
            "\u001b[2K   \u001b[90m━━━━━━━━━━━━━━━━━━━━━━━━━━━━━━━━━━━━━━━━\u001b[0m \u001b[32m491.2/491.2 kB\u001b[0m \u001b[31m24.8 MB/s\u001b[0m eta \u001b[36m0:00:00\u001b[0m\n",
            "\u001b[2K   \u001b[90m━━━━━━━━━━━━━━━━━━━━━━━━━━━━━━━━━━━━━━━━\u001b[0m \u001b[32m438.6/438.6 kB\u001b[0m \u001b[31m12.8 MB/s\u001b[0m eta \u001b[36m0:00:00\u001b[0m\n",
            "\u001b[2K   \u001b[90m━━━━━━━━━━━━━━━━━━━━━━━━━━━━━━━━━━━━━━━━\u001b[0m \u001b[32m68.6/68.6 kB\u001b[0m \u001b[31m5.3 MB/s\u001b[0m eta \u001b[36m0:00:00\u001b[0m\n",
            "\u001b[2K   \u001b[90m━━━━━━━━━━━━━━━━━━━━━━━━━━━━━━━━━━━━━━━━\u001b[0m \u001b[32m116.3/116.3 kB\u001b[0m \u001b[31m8.3 MB/s\u001b[0m eta \u001b[36m0:00:00\u001b[0m\n",
            "\u001b[2K   \u001b[90m━━━━━━━━━━━━━━━━━━━━━━━━━━━━━━━━━━━━━━━━\u001b[0m \u001b[32m183.9/183.9 kB\u001b[0m \u001b[31m13.3 MB/s\u001b[0m eta \u001b[36m0:00:00\u001b[0m\n",
            "\u001b[2K   \u001b[90m━━━━━━━━━━━━━━━━━━━━━━━━━━━━━━━━━━━━━━━━\u001b[0m \u001b[32m161.7/161.7 kB\u001b[0m \u001b[31m10.6 MB/s\u001b[0m eta \u001b[36m0:00:00\u001b[0m\n",
            "\u001b[2K   \u001b[90m━━━━━━━━━━━━━━━━━━━━━━━━━━━━━━━━━━━━━━━━\u001b[0m \u001b[32m143.5/143.5 kB\u001b[0m \u001b[31m10.0 MB/s\u001b[0m eta \u001b[36m0:00:00\u001b[0m\n",
            "\u001b[2K   \u001b[90m━━━━━━━━━━━━━━━━━━━━━━━━━━━━━━━━━━━━━━━━\u001b[0m \u001b[32m363.4/363.4 MB\u001b[0m \u001b[31m4.4 MB/s\u001b[0m eta \u001b[36m0:00:00\u001b[0m\n",
            "\u001b[2K   \u001b[90m━━━━━━━━━━━━━━━━━━━━━━━━━━━━━━━━━━━━━━━━\u001b[0m \u001b[32m13.8/13.8 MB\u001b[0m \u001b[31m88.0 MB/s\u001b[0m eta \u001b[36m0:00:00\u001b[0m\n",
            "\u001b[2K   \u001b[90m━━━━━━━━━━━━━━━━━━━━━━━━━━━━━━━━━━━━━━━━\u001b[0m \u001b[32m24.6/24.6 MB\u001b[0m \u001b[31m72.1 MB/s\u001b[0m eta \u001b[36m0:00:00\u001b[0m\n",
            "\u001b[2K   \u001b[90m━━━━━━━━━━━━━━━━━━━━━━━━━━━━━━━━━━━━━━━━\u001b[0m \u001b[32m883.7/883.7 kB\u001b[0m \u001b[31m42.7 MB/s\u001b[0m eta \u001b[36m0:00:00\u001b[0m\n",
            "\u001b[2K   \u001b[90m━━━━━━━━━━━━━━━━━━━━━━━━━━━━━━━━━━━━━━━━\u001b[0m \u001b[32m664.8/664.8 MB\u001b[0m \u001b[31m2.3 MB/s\u001b[0m eta \u001b[36m0:00:00\u001b[0m\n",
            "\u001b[2K   \u001b[90m━━━━━━━━━━━━━━━━━━━━━━━━━━━━━━━━━━━━━━━━\u001b[0m \u001b[32m211.5/211.5 MB\u001b[0m \u001b[31m5.5 MB/s\u001b[0m eta \u001b[36m0:00:00\u001b[0m\n",
            "\u001b[2K   \u001b[90m━━━━━━━━━━━━━━━━━━━━━━━━━━━━━━━━━━━━━━━━\u001b[0m \u001b[32m56.3/56.3 MB\u001b[0m \u001b[31m10.0 MB/s\u001b[0m eta \u001b[36m0:00:00\u001b[0m\n",
            "\u001b[2K   \u001b[90m━━━━━━━━━━━━━━━━━━━━━━━━━━━━━━━━━━━━━━━━\u001b[0m \u001b[32m127.9/127.9 MB\u001b[0m \u001b[31m6.7 MB/s\u001b[0m eta \u001b[36m0:00:00\u001b[0m\n",
            "\u001b[2K   \u001b[90m━━━━━━━━━━━━━━━━━━━━━━━━━━━━━━━━━━━━━━━━\u001b[0m \u001b[32m207.5/207.5 MB\u001b[0m \u001b[31m4.8 MB/s\u001b[0m eta \u001b[36m0:00:00\u001b[0m\n",
            "\u001b[2K   \u001b[90m━━━━━━━━━━━━━━━━━━━━━━━━━━━━━━━━━━━━━━━━\u001b[0m \u001b[32m21.1/21.1 MB\u001b[0m \u001b[31m77.0 MB/s\u001b[0m eta \u001b[36m0:00:00\u001b[0m\n",
            "\u001b[2K   \u001b[90m━━━━━━━━━━━━━━━━━━━━━━━━━━━━━━━━━━━━━━━━\u001b[0m \u001b[32m7.0/7.0 MB\u001b[0m \u001b[31m93.8 MB/s\u001b[0m eta \u001b[36m0:00:00\u001b[0m\n",
            "\u001b[2K   \u001b[90m━━━━━━━━━━━━━━━━━━━━━━━━━━━━━━━━━━━━━━━━\u001b[0m \u001b[32m194.8/194.8 kB\u001b[0m \u001b[31m14.1 MB/s\u001b[0m eta \u001b[36m0:00:00\u001b[0m\n",
            "\u001b[2K   \u001b[90m━━━━━━━━━━━━━━━━━━━━━━━━━━━━━━━━━━━━━━━━\u001b[0m \u001b[32m3.1/3.1 MB\u001b[0m \u001b[31m74.7 MB/s\u001b[0m eta \u001b[36m0:00:00\u001b[0m\n",
            "\u001b[2K   \u001b[90m━━━━━━━━━━━━━━━━━━━━━━━━━━━━━━━━━━━━━━━━\u001b[0m \u001b[32m1.2/1.2 MB\u001b[0m \u001b[31m53.3 MB/s\u001b[0m eta \u001b[36m0:00:00\u001b[0m\n",
            "\u001b[2K   \u001b[90m━━━━━━━━━━━━━━━━━━━━━━━━━━━━━━━━━━━━━━━━\u001b[0m \u001b[32m65.4/65.4 kB\u001b[0m \u001b[31m3.6 MB/s\u001b[0m eta \u001b[36m0:00:00\u001b[0m\n",
            "\u001b[?25h  Building wheel for mitdeeplearning (setup.py) ... \u001b[?25l\u001b[?25hdone\n",
            "\u001b[31mERROR: pip's dependency resolver does not currently take into account all the packages that are installed. This behaviour is the source of the following dependency conflicts.\n",
            "gcsfs 2025.3.0 requires fsspec==2025.3.0, but you have fsspec 2024.12.0 which is incompatible.\u001b[0m\u001b[31m\n",
            "\u001b[0m"
          ]
        }
      ],
      "source": [
        "import torch\n",
        "import torch.nn as nn\n",
        "\n",
        "# Download and import the MIT Introduction to Deep Learning package\n",
        "!pip install mitdeeplearning --quiet\n",
        "import mitdeeplearning as mdl\n",
        "\n",
        "import numpy as np\n",
        "import matplotlib.pyplot as plt"
      ]
    },
    {
      "cell_type": "markdown",
      "metadata": {
        "id": "2QNMcdP4m3Vs"
      },
      "source": [
        "## 1.1 What is PyTorch?\n",
        "\n",
        "PyTorch is a machine learning library, like TensorFlow. At its core, PyTorch provides an interface for creating and manipulating [tensors](https://pytorch.org/docs/stable/tensors.html), which are data structures that you can think of as multi-dimensional arrays. Tensors are represented as n-dimensional arrays of base datatypes such as a string or integer -- they provide a way to generalize vectors and matrices to higher dimensions. PyTorch provides the ability to perform computation on these tensors, define neural networks, and train them efficiently.\n",
        "\n",
        "The [```shape```](https://pytorch.org/docs/stable/generated/torch.Tensor.shape.html#torch.Tensor.shape) of a PyTorch tensor defines its number of dimensions and the size of each dimension. The `ndim` or [```dim```](https://pytorch.org/docs/stable/generated/torch.Tensor.dim.html#torch.Tensor.dim) of a PyTorch tensor provides the number of dimensions (n-dimensions) -- this is equivalent to the tensor's rank (as is used in TensorFlow), and you can also think of this as the tensor's order or degree.\n",
        "\n",
        "Let’s start by creating some tensors and inspecting their properties:\n"
      ]
    },
    {
      "cell_type": "code",
      "execution_count": 2,
      "metadata": {
        "id": "tFxztZQInlAB",
        "outputId": "d1c3b298-4f42-4f7c-aa19-869fa06f7120",
        "colab": {
          "base_uri": "https://localhost:8080/"
        }
      },
      "outputs": [
        {
          "output_type": "stream",
          "name": "stdout",
          "text": [
            "`integer` is a 0-d Tensor: 1234\n",
            "`decimal` is a 0-d Tensor: 3.1415927410125732\n"
          ]
        }
      ],
      "source": [
        "integer = torch.tensor(1234)\n",
        "decimal = torch.tensor(3.14159265359)\n",
        "\n",
        "print(f\"`integer` is a {integer.ndim}-d Tensor: {integer}\")\n",
        "print(f\"`decimal` is a {decimal.ndim}-d Tensor: {decimal}\")\n"
      ]
    },
    {
      "cell_type": "markdown",
      "metadata": {
        "id": "-dljcPUcoJZ6"
      },
      "source": [
        "Vectors and lists can be used to create 1-d tensors:"
      ]
    },
    {
      "cell_type": "code",
      "execution_count": 3,
      "metadata": {
        "id": "oaHXABe8oPcO",
        "outputId": "19ed76e6-afa3-43c5-fdc8-352e086dd328",
        "colab": {
          "base_uri": "https://localhost:8080/"
        }
      },
      "outputs": [
        {
          "output_type": "stream",
          "name": "stdout",
          "text": [
            "`fibonacci` is a 1-d Tensor with shape: torch.Size([6])\n",
            "`count_to_100` is a 1-d Tensor with shape: torch.Size([100])\n"
          ]
        }
      ],
      "source": [
        "fibonacci = torch.tensor([1, 1, 2, 3, 5, 8])\n",
        "count_to_100 = torch.tensor(range(100))\n",
        "\n",
        "print(f\"`fibonacci` is a {fibonacci.ndim}-d Tensor with shape: {fibonacci.shape}\")\n",
        "print(f\"`count_to_100` is a {count_to_100.ndim}-d Tensor with shape: {count_to_100.shape}\")\n"
      ]
    },
    {
      "cell_type": "markdown",
      "metadata": {
        "id": "gvffwkvtodLP"
      },
      "source": [
        "Next, let’s create 2-d (i.e., matrices) and higher-rank tensors. In image processing and computer vision, we will use 4-d Tensors with dimensions corresponding to batch size, number of color channels, image height, and image width."
      ]
    },
    {
      "cell_type": "code",
      "execution_count": 6,
      "metadata": {
        "id": "tFeBBe1IouS3",
        "outputId": "39244908-1b7b-43d4-f018-b3ffb65dc93e",
        "colab": {
          "base_uri": "https://localhost:8080/"
        }
      },
      "outputs": [
        {
          "output_type": "stream",
          "name": "stdout",
          "text": [
            "images is a 4-d Tensor with shape: torch.Size([10, 3, 256, 256])\n"
          ]
        }
      ],
      "source": [
        "### Defining higher-order Tensors ###\n",
        "\n",
        "'''Define a 2-d Tensor'''\n",
        "matrix = torch.tensor([[1, 2], [3, 4]])\n",
        "\n",
        "assert isinstance(matrix, torch.Tensor), \"matrix must be a torch Tensor object\"\n",
        "assert matrix.ndim == 2\n",
        "\n",
        "'''Define a 4-d Tensor.'''\n",
        "# Use torch.zeros to initialize a 4-d Tensor of zeros with size 10 x 3 x 256 x 256.\n",
        "#   You can think of this as 10 images where each image is RGB 256 x 256.\n",
        "images = torch.zeros(10, 3, 256, 256)\n",
        "\n",
        "assert isinstance(images, torch.Tensor), \"images must be a torch Tensor object\"\n",
        "assert images.ndim == 4, \"images must have 4 dimensions\"\n",
        "assert images.shape == (10, 3, 256, 256), \"images is incorrect shape\"\n",
        "print(f\"images is a {images.ndim}-d Tensor with shape: {images.shape}\")"
      ]
    },
    {
      "cell_type": "markdown",
      "metadata": {
        "id": "wkaCDOGapMyl"
      },
      "source": [
        "As you have seen, the `shape` of a tensor provides the number of elements in each tensor dimension. The `shape` is quite useful, and we'll use it often. You can also use slicing to access subtensors within a higher-rank tensor:"
      ]
    },
    {
      "cell_type": "code",
      "execution_count": 7,
      "metadata": {
        "id": "FhaufyObuLEG",
        "outputId": "67392953-36ac-4994-e00d-200024cb143b",
        "colab": {
          "base_uri": "https://localhost:8080/"
        }
      },
      "outputs": [
        {
          "output_type": "stream",
          "name": "stdout",
          "text": [
            "`row_vector`: tensor([3, 4])\n",
            "`column_vector`: tensor([2, 4])\n",
            "`scalar`: 2\n"
          ]
        }
      ],
      "source": [
        "row_vector = matrix[1]\n",
        "column_vector = matrix[:, 1]\n",
        "scalar = matrix[0, 1]\n",
        "\n",
        "print(f\"`row_vector`: {row_vector}\")\n",
        "print(f\"`column_vector`: {column_vector}\")\n",
        "print(f\"`scalar`: {scalar}\")"
      ]
    },
    {
      "cell_type": "code",
      "source": [
        "print(torch.zeros(1, 3, 2, 2))"
      ],
      "metadata": {
        "id": "iuVpFlWV_mT1",
        "outputId": "4c9dc9f1-3285-4e1a-b3ea-8c8824e20351",
        "colab": {
          "base_uri": "https://localhost:8080/"
        }
      },
      "execution_count": 8,
      "outputs": [
        {
          "output_type": "stream",
          "name": "stdout",
          "text": [
            "tensor([[[[0., 0.],\n",
            "          [0., 0.]],\n",
            "\n",
            "         [[0., 0.],\n",
            "          [0., 0.]],\n",
            "\n",
            "         [[0., 0.],\n",
            "          [0., 0.]]]])\n"
          ]
        }
      ]
    },
    {
      "cell_type": "markdown",
      "metadata": {
        "id": "iD3VO-LZYZ2z"
      },
      "source": [
        "## 1.2 Computations on Tensors\n",
        "\n",
        "A convenient way to think about and visualize computations in a machine learning framework like PyTorch is in terms of graphs. We can define this graph in terms of tensors, which hold data, and the mathematical operations that act on these tensors in some order. Let's look at a simple example, and define this computation using PyTorch:\n",
        "\n",
        "![alt text](https://raw.githubusercontent.com/MITDeepLearning/introtodeeplearning/2025/lab1/img/add-graph.png)"
      ]
    },
    {
      "cell_type": "code",
      "execution_count": 9,
      "metadata": {
        "id": "X_YJrZsxYZ2z",
        "outputId": "c4e2ef52-030c-40ec-8c54-613c3141ffb7",
        "colab": {
          "base_uri": "https://localhost:8080/"
        }
      },
      "outputs": [
        {
          "output_type": "stream",
          "name": "stdout",
          "text": [
            "c1: 76\n",
            "c2: 76\n"
          ]
        }
      ],
      "source": [
        "# Create the nodes in the graph and initialize values\n",
        "a = torch.tensor(15)\n",
        "b = torch.tensor(61)\n",
        "\n",
        "# Add them!\n",
        "c1 = torch.add(a, b)\n",
        "c2 = a + b  # PyTorch overrides the \"+\" operation so that it is able to act on Tensors\n",
        "print(f\"c1: {c1}\")\n",
        "print(f\"c2: {c2}\")\n"
      ]
    },
    {
      "cell_type": "markdown",
      "metadata": {
        "id": "Mbfv_QOiYZ23"
      },
      "source": [
        "Notice how we've created a computation graph consisting of PyTorch operations, and how the output is a tensor with value 76 -- we've just created a computation graph consisting of operations, and it's executed them and given us back the result.\n",
        "\n",
        "Now let's consider a slightly more complicated example:\n",
        "\n",
        "![alt text](https://raw.githubusercontent.com/MITDeepLearning/introtodeeplearning/2025/lab1/img/computation-graph.png)\n",
        "\n",
        "Here, we take two inputs, `a, b`, and compute an output `e`. Each node in the graph represents an operation that takes some input, does some computation, and passes its output to another node.\n",
        "\n",
        "Let's define a simple function in PyTorch to construct this computation function:"
      ]
    },
    {
      "cell_type": "code",
      "execution_count": 10,
      "metadata": {
        "id": "PJnfzpWyYZ23",
        "scrolled": true
      },
      "outputs": [],
      "source": [
        "### Defining Tensor computations ###\n",
        "\n",
        "# Construct a simple computation function\n",
        "def func(a, b):\n",
        "    '''Define the operation for c, d, e.'''\n",
        "    c = torch.tensor(a) + torch.tensor(b)\n",
        "    d = torch.tensor(b) - torch.tensor(1)\n",
        "    e = c * d\n",
        "    return e\n"
      ]
    },
    {
      "cell_type": "markdown",
      "metadata": {
        "id": "AwrRfDMS2-oy"
      },
      "source": [
        "Now, we can call this function to execute the computation graph given some inputs `a,b`:"
      ]
    },
    {
      "cell_type": "code",
      "execution_count": 14,
      "metadata": {
        "id": "pnwsf8w2uF7p",
        "outputId": "d3f9efa7-9c47-4bd4-a05b-055567762cbd",
        "colab": {
          "base_uri": "https://localhost:8080/"
        }
      },
      "outputs": [
        {
          "output_type": "stream",
          "name": "stdout",
          "text": [
            "e_out: 6.0\n"
          ]
        }
      ],
      "source": [
        "# Consider example values for a,b\n",
        "a, b = 1.5, 2.5\n",
        "# Execute the computation\n",
        "e_out = func(a, b)\n",
        "print(f\"e_out: {e_out}\")"
      ]
    },
    {
      "cell_type": "markdown",
      "metadata": {
        "id": "6HqgUIUhYZ29"
      },
      "source": [
        "Notice how our output is a tensor with value defined by the output of the computation, and that the output has no shape as it is a single scalar value."
      ]
    },
    {
      "cell_type": "markdown",
      "metadata": {
        "id": "1h4o9Bb0YZ29"
      },
      "source": [
        "## 1.3 Neural networks in PyTorch\n",
        "We can also define neural networks in PyTorch. PyTorch uses [``torch.nn.Module``](https://pytorch.org/docs/stable/generated/torch.nn.Module.html), which serves as a base class for all neural network modules in PyTorch and thus provides a framework for building and training neural networks.\n",
        "\n",
        "Let's consider the example of a simple perceptron defined by just one dense (aka fully-connected or linear) layer: $ y = \\sigma(Wx + b) $, where $W$ represents a matrix of weights, $b$ is a bias, $x$ is the input, $\\sigma$ is the sigmoid activation function, and $y$ is the output.\n",
        "\n",
        "![alt text](https://raw.githubusercontent.com/MITDeepLearning/introtodeeplearning/2025/lab1/img/computation-graph-2.png)\n",
        "\n",
        "We will use `torch.nn.Module` to define layers -- the building blocks of neural networks. Layers implement common neural networks operations. In PyTorch, when we implement a layer, we subclass `nn.Module` and define the parameters of the layer as attributes of our new class. We also define and override a function [``forward``](https://pytorch.org/docs/stable/generated/torch.nn.Module.html#torch.nn.Module.forward), which will define the forward pass computation that is performed at every step. All classes subclassing `nn.Module` should override the `forward` function.\n",
        "\n",
        "Let's write a dense layer class to implement a perceptron defined above."
      ]
    },
    {
      "cell_type": "code",
      "execution_count": 8,
      "metadata": {
        "id": "HutbJk-1kHPh"
      },
      "outputs": [],
      "source": [
        "### Defining a dense layer ###\n",
        "\n",
        "# num_inputs: number of input nodes\n",
        "# num_outputs: number of output nodes\n",
        "# x: input to the layer\n",
        "\n",
        "class OurDenseLayer(torch.nn.Module):\n",
        "    def __init__(self, num_inputs, num_outputs):\n",
        "        super(OurDenseLayer, self).__init__()\n",
        "        # Define and initialize parameters: a weight matrix W and bias b\n",
        "        # Note that the parameter initialize is random!\n",
        "        self.W = torch.nn.Parameter(torch.randn(num_inputs, num_outputs))\n",
        "        self.bias = torch.nn.Parameter(torch.randn(num_outputs))\n",
        "\n",
        "    def forward(self, x):\n",
        "        '''define the operation for z (hint: use torch.matmul).'''\n",
        "        z = torch.add(torch.matmul(x, self.W), self.bias)\n",
        "\n",
        "        '''define the operation for out (hint: use torch.sigmoid).'''\n",
        "        y = torch.sigmoid(z)\n",
        "        return y\n"
      ]
    },
    {
      "cell_type": "code",
      "source": [
        "import torch"
      ],
      "metadata": {
        "id": "KtjL7NEr1vgW"
      },
      "execution_count": 1,
      "outputs": []
    },
    {
      "cell_type": "code",
      "source": [
        "torch.randn(2, 2, 3)"
      ],
      "metadata": {
        "id": "nmhyjT7l1ygP",
        "outputId": "4ef0c279-3c60-4669-b3f5-5873610d1cad",
        "colab": {
          "base_uri": "https://localhost:8080/"
        }
      },
      "execution_count": 4,
      "outputs": [
        {
          "output_type": "execute_result",
          "data": {
            "text/plain": [
              "tensor([[[-0.7036, -2.1846,  1.0582],\n",
              "         [ 0.6243, -0.2482,  1.1692]],\n",
              "\n",
              "        [[ 1.0211,  0.0491,  1.5075],\n",
              "         [ 0.0088,  0.0704,  1.0721]]])"
            ]
          },
          "metadata": {},
          "execution_count": 4
        }
      ]
    },
    {
      "cell_type": "markdown",
      "metadata": {
        "id": "GqeEbn959hV_"
      },
      "source": [
        "Now, let's test the output of our layer."
      ]
    },
    {
      "cell_type": "code",
      "execution_count": 9,
      "metadata": {
        "id": "2yxjCPa69hV_",
        "outputId": "99fd64a3-7d96-473e-d25d-fb64f9f47641",
        "colab": {
          "base_uri": "https://localhost:8080/"
        }
      },
      "outputs": [
        {
          "output_type": "stream",
          "name": "stdout",
          "text": [
            "input shape: torch.Size([1, 2])\n",
            "output shape: torch.Size([1, 3])\n",
            "output result: tensor([[0.0200, 0.4938, 0.0560]], grad_fn=<SigmoidBackward0>)\n"
          ]
        }
      ],
      "source": [
        "# Define a layer and test the output!\n",
        "num_inputs = 2\n",
        "num_outputs = 3\n",
        "layer = OurDenseLayer(num_inputs, num_outputs)\n",
        "x_input = torch.tensor([[1, 2.]])\n",
        "y = layer(x_input)\n",
        "\n",
        "print(f\"input shape: {x_input.shape}\")\n",
        "print(f\"output shape: {y.shape}\")\n",
        "print(f\"output result: {y}\")"
      ]
    },
    {
      "cell_type": "markdown",
      "metadata": {
        "id": "Jt1FgM7qYZ3D"
      },
      "source": [
        "Conveniently, PyTorch has defined a number of ```nn.Modules``` (or Layers) that are commonly used in neural networks, for example a [```nn.Linear```](https://pytorch.org/docs/stable/generated/torch.nn.Linear.html) or [`nn.Sigmoid`](https://pytorch.org/docs/stable/generated/torch.nn.Sigmoid.html) module.\n",
        "\n",
        "Now, instead of using a single ```Module``` to define our simple neural network, we'll use the  [`nn.Sequential`](https://pytorch.org/docs/stable/generated/torch.nn.Sequential.html) module from PyTorch and a single [`nn.Linear` ](https://pytorch.org/docs/stable/generated/torch.nn.Linear.html) layer to define our network. With the `Sequential` API, you can readily create neural networks by stacking together layers like building blocks."
      ]
    },
    {
      "cell_type": "code",
      "execution_count": 10,
      "metadata": {
        "id": "7WXTpmoL6TDz"
      },
      "outputs": [],
      "source": [
        "### Defining a neural network using the PyTorch Sequential API ###\n",
        "\n",
        "# define the number of inputs and outputs\n",
        "n_input_nodes = 2\n",
        "n_output_nodes = 3\n",
        "\n",
        "# Define the model\n",
        "'''Use the Sequential API to define a neural network with a\n",
        "   single linear (dense!) layer, followed by non-linearity to compute z'''\n",
        "model = nn.Sequential(\n",
        "    nn.Linear(n_input_nodes, n_output_nodes),\n",
        "    nn.Sigmoid()\n",
        ")\n"
      ]
    },
    {
      "cell_type": "markdown",
      "metadata": {
        "id": "HDGcwYfUyR-U"
      },
      "source": [
        "We've defined our model using the Sequential API. Now, we can test it out using an example input:"
      ]
    },
    {
      "cell_type": "code",
      "execution_count": 11,
      "metadata": {
        "id": "zKhp6XqCFFa0",
        "outputId": "a58a19d1-bb56-4694-f498-8b9226c994d0",
        "colab": {
          "base_uri": "https://localhost:8080/"
        }
      },
      "outputs": [
        {
          "output_type": "stream",
          "name": "stdout",
          "text": [
            "input shape: torch.Size([1, 2])\n",
            "output shape: torch.Size([1, 3])\n",
            "output result: tensor([[0.0200, 0.4938, 0.0560]], grad_fn=<SigmoidBackward0>)\n"
          ]
        }
      ],
      "source": [
        "# Test the model with example input\n",
        "x_input = torch.tensor([[1, 2.]])\n",
        "model_output = model(x_input)\n",
        "print(f\"input shape: {x_input.shape}\")\n",
        "print(f\"output shape: {y.shape}\")\n",
        "print(f\"output result: {y}\")"
      ]
    },
    {
      "cell_type": "markdown",
      "metadata": {
        "id": "596NvsOOtr9F"
      },
      "source": [
        "With PyTorch, we can create more flexible models by subclassing [`nn.Module`](https://pytorch.org/docs/stable/generated/torch.nn.Module.html). The `nn.Module` class allows us to group layers together flexibly to define new architectures.\n",
        "\n",
        "As we saw earlier with `OurDenseLayer`, we can subclass `nn.Module` to create a class for our model, and then define the forward pass through the network using the `forward` function. Subclassing affords the flexibility to define custom layers, custom training loops, custom activation functions, and custom models. Let's define the same neural network model as above (i.e., Linear layer with an activation function after it), now using subclassing and using PyTorch's built in linear layer from `nn.Linear`."
      ]
    },
    {
      "cell_type": "code",
      "execution_count": 12,
      "metadata": {
        "id": "K4aCflPVyViD"
      },
      "outputs": [],
      "source": [
        "### Defining a model using subclassing ###\n",
        "\n",
        "class LinearWithSigmoidActivation(nn.Module):\n",
        "    def __init__(self, num_inputs, num_outputs):\n",
        "        super(LinearWithSigmoidActivation, self).__init__()\n",
        "        '''define a model with a single Linear layer and sigmoid activation.'''\n",
        "        self.linear = nn.Linear(num_inputs, num_outputs)\n",
        "        self.activation = nn.Sigmoid()\n",
        "\n",
        "    def forward(self, inputs):\n",
        "        linear_output = self.linear(inputs)\n",
        "        output = self.activation(linear_output)\n",
        "        return output\n"
      ]
    },
    {
      "cell_type": "markdown",
      "metadata": {
        "id": "goKCQ9dEGzRn"
      },
      "source": [
        "Let's test out our new model, using an example input, setting `n_input_nodes=2` and `n_output_nodes=3` as before."
      ]
    },
    {
      "cell_type": "code",
      "execution_count": 13,
      "metadata": {
        "id": "V-eNhSyRG6hl",
        "outputId": "645de82c-a8cb-4cd1-8381-28d2d0ef6652",
        "colab": {
          "base_uri": "https://localhost:8080/"
        }
      },
      "outputs": [
        {
          "output_type": "stream",
          "name": "stdout",
          "text": [
            "input shape: torch.Size([1, 2])\n",
            "output shape: torch.Size([1, 3])\n",
            "output result: tensor([[0.5020, 0.2372, 0.6318]], grad_fn=<SigmoidBackward0>)\n"
          ]
        }
      ],
      "source": [
        "n_input_nodes = 2\n",
        "n_output_nodes = 3\n",
        "model = LinearWithSigmoidActivation(n_input_nodes, n_output_nodes)\n",
        "x_input = torch.tensor([[1, 2.]])\n",
        "y = model(x_input)\n",
        "print(f\"input shape: {x_input.shape}\")\n",
        "print(f\"output shape: {y.shape}\")\n",
        "print(f\"output result: {y}\")"
      ]
    },
    {
      "cell_type": "markdown",
      "metadata": {
        "id": "HTIFMJLAzsyE"
      },
      "source": [
        "Importantly, `nn.Module` affords us a lot of flexibility to define custom models. For example, we can use boolean arguments in the `forward` function to specify different network behaviors, for example different behaviors during training and inference. Let's suppose under some instances we want our network to simply output the input, without any perturbation. We define a boolean argument `isidentity` to control this behavior:"
      ]
    },
    {
      "cell_type": "code",
      "execution_count": 2,
      "metadata": {
        "id": "P7jzGX5D1xT5"
      },
      "outputs": [],
      "source": [
        "### Custom behavior with subclassing nn.Module ###\n",
        "\n",
        "class LinearButSometimesIdentity(nn.Module):\n",
        "    def __init__(self, num_inputs, num_outputs):\n",
        "        super(LinearButSometimesIdentity, self).__init__()\n",
        "        self.linear = nn.Linear(num_inputs, num_outputs)\n",
        "\n",
        "    '''Implement the behavior where the network outputs the input, unchanged,\n",
        "        under control of the isidentity argument.'''\n",
        "    def forward(self, inputs, isidentity=False):\n",
        "        if isidentity:\n",
        "            return inputs\n",
        "        return self.linear(inputs)\n"
      ]
    },
    {
      "cell_type": "markdown",
      "metadata": {
        "id": "Ku4rcCGx5T3y"
      },
      "source": [
        "Let's test this behavior:"
      ]
    },
    {
      "cell_type": "code",
      "execution_count": 4,
      "metadata": {
        "id": "NzC0mgbk5dp2",
        "outputId": "7947bd15-b508-4412-ad21-c005c9ba44d4",
        "colab": {
          "base_uri": "https://localhost:8080/"
        }
      },
      "outputs": [
        {
          "output_type": "stream",
          "name": "stdout",
          "text": [
            "input: tensor([[1., 2.]])\n",
            "Network linear output: tensor([[-0.4370, -1.7645, -0.2161]], grad_fn=<AddmmBackward0>); network identity output: tensor([[1., 2.]])\n"
          ]
        }
      ],
      "source": [
        "# Test the IdentityModel\n",
        "model = LinearButSometimesIdentity(num_inputs=2, num_outputs=3)\n",
        "x_input = torch.tensor([[1, 2.]])\n",
        "\n",
        "'''pass the input into the model and call with and without the input identity option.'''\n",
        "out_with_linear = model(x_input)\n",
        "\n",
        "out_with_identity = model(x_input, isidentity=True)\n",
        "\n",
        "print(f\"input: {x_input}\")\n",
        "print(\"Network linear output: {}; network identity output: {}\".format(out_with_linear, out_with_identity))"
      ]
    },
    {
      "cell_type": "markdown",
      "metadata": {
        "id": "7V1dEqdk6VI5"
      },
      "source": [
        "Now that we have learned how to define layers and models in PyTorch using both the Sequential API and subclassing `nn.Module`, we're ready to turn our attention to how to actually implement network training with backpropagation."
      ]
    },
    {
      "cell_type": "markdown",
      "metadata": {
        "id": "dQwDhKn8kbO2"
      },
      "source": [
        "## 1.4 Automatic Differentiation in PyTorch\n",
        "\n",
        "In PyTorch, [`torch.autograd`](https://pytorch.org/docs/stable/autograd.html) is used for [automatic differentiation](https://en.wikipedia.org/wiki/Automatic_differentiation), which is critical for training deep learning models with [backpropagation](https://en.wikipedia.org/wiki/Backpropagation).\n",
        "\n",
        "We will use the PyTorch [`.backward()`](https://pytorch.org/docs/stable/generated/torch.Tensor.backward.html) method to trace operations for computing gradients. On a tensor, the [`requires_grad`](https://pytorch.org/docs/stable/generated/torch.Tensor.requires_grad_.html) attribute controls whether autograd should record operations on that tensor. When a forward pass is made through the network, PyTorch builds a computational graph dynamically; then, to compute the gradient, the `backward()` method is called to perform backpropagation.\n",
        "\n",
        "Let's compute the gradient of $ y = x^2 $:"
      ]
    },
    {
      "cell_type": "code",
      "execution_count": 5,
      "metadata": {
        "id": "tdkqk8pw5yJM",
        "outputId": "bc8fdae9-3a2a-4b40-c5be-8516d342ee30",
        "colab": {
          "base_uri": "https://localhost:8080/"
        }
      },
      "outputs": [
        {
          "output_type": "stream",
          "name": "stdout",
          "text": [
            "dy_dx of y=x^2 at x=3.0 is:  tensor(6.)\n"
          ]
        }
      ],
      "source": [
        "### Gradient computation ###\n",
        "\n",
        "# y = x^2\n",
        "# Example: x = 3.0\n",
        "x = torch.tensor(3.0, requires_grad=True)\n",
        "y = x ** 2\n",
        "y.backward()  # Compute the gradient\n",
        "\n",
        "dy_dx = x.grad\n",
        "print(\"dy_dx of y=x^2 at x=3.0 is: \", dy_dx)\n",
        "assert dy_dx == 6.0\n"
      ]
    },
    {
      "cell_type": "markdown",
      "metadata": {
        "id": "JhU5metS5xF3"
      },
      "source": [
        "In training neural networks, we use differentiation and stochastic gradient descent (SGD) to optimize a loss function. Now that we have a sense of how PyTorch's autograd can be used to compute and access derivatives, we will look at an example where we use automatic differentiation and SGD to find the minimum of $ L=(x-x_f)^2 $. Here $x_f$ is a variable for a desired value we are trying to optimize for; $L$ represents a loss that we are trying to minimize. While we can clearly solve this problem analytically ($ x_{min}=x_f $), considering how we can compute this using PyTorch's autograd sets us up nicely for future labs where we use gradient descent to optimize entire neural network losses."
      ]
    },
    {
      "cell_type": "code",
      "execution_count": 2,
      "metadata": {
        "attributes": {
          "classes": [
            "py"
          ],
          "id": ""
        },
        "id": "7g1yWiSXqEf-",
        "outputId": "a913ad9e-6036-43ab-a580-c3179f94f641",
        "colab": {
          "base_uri": "https://localhost:8080/",
          "height": 467
        }
      },
      "outputs": [
        {
          "output_type": "stream",
          "name": "stdout",
          "text": [
            "Initializing x=-0.8706796765327454\n"
          ]
        },
        {
          "output_type": "display_data",
          "data": {
            "text/plain": [
              "<Figure size 640x480 with 1 Axes>"
            ],
            "image/png": "[encoded data removed]"
          },
          "metadata": {}
        }
      ],
      "source": [
        "### Function minimization with autograd and gradient descent ###\n",
        "\n",
        "# Initialize a random value for our intial x\n",
        "x = torch.randn(1)\n",
        "print(f\"Initializing x={x.item()}\")\n",
        "\n",
        "learning_rate = 1e-2  # Learning rate\n",
        "history = []\n",
        "x_f = 4  # Target value\n",
        "\n",
        "\n",
        "# We will run gradient descent for a number of iterations. At each iteration, we compute the loss,\n",
        "#   compute the derivative of the loss with respect to x, and perform the update.\n",
        "for i in range(500):\n",
        "    x = torch.tensor([x], requires_grad=True)\n",
        "\n",
        "    # Compute the loss as the square of the difference between x and x_f\n",
        "    loss = (x - x_f) ** 2\n",
        "\n",
        "    # Backpropagate through the loss to compute gradients\n",
        "    loss.backward()\n",
        "\n",
        "    # Update x with gradient descent\n",
        "    x = x.item() - learning_rate * x.grad  # 只有标量才能使用 .item 方法\n",
        "\n",
        "    history.append(x.item())\n",
        "\n",
        "# Plot the evolution of x as we optimize toward x_f!\n",
        "plt.plot(history)\n",
        "plt.plot([0, 500], [x_f, x_f])\n",
        "plt.legend(('Predicted', 'True'))\n",
        "plt.xlabel('Iteration')\n",
        "plt.ylabel('x value')\n",
        "plt.show()\n"
      ]
    },
    {
      "cell_type": "code",
      "source": [
        "history"
      ],
      "metadata": {
        "id": "Yi4But0flg6X",
        "outputId": "64b6316a-62bd-4295-d6c3-0811464f2e62",
        "colab": {
          "base_uri": "https://localhost:8080/"
        }
      },
      "execution_count": 3,
      "outputs": [
        {
          "output_type": "execute_result",
          "data": {
            "text/plain": [
              "[-0.773266077041626,\n",
              " -0.6778007745742798,\n",
              " -0.5842447876930237,\n",
              " -0.49255990982055664,\n",
              " -0.4027087092399597,\n",
              " -0.31465452909469604,\n",
              " -0.22836144268512726,\n",
              " -0.1437942087650299,\n",
              " -0.060918331146240234,\n",
              " 0.02030003070831299,\n",
              " 0.09989403188228607,\n",
              " 0.1778961420059204,\n",
              " 0.25433820486068726,\n",
              " 0.3292514383792877,\n",
              " 0.4026663899421692,\n",
              " 0.4746130704879761,\n",
              " 0.5451208353042603,\n",
              " 0.6142184138298035,\n",
              " 0.6819340586662292,\n",
              " 0.7482953667640686,\n",
              " 0.8133294582366943,\n",
              " 0.8770628571510315,\n",
              " 0.9395216107368469,\n",
              " 1.0007312297821045,\n",
              " 1.0607166290283203,\n",
              " 1.119502305984497,\n",
              " 1.1771122217178345,\n",
              " 1.2335699796676636,\n",
              " 1.2888985872268677,\n",
              " 1.3431205749511719,\n",
              " 1.3962581157684326,\n",
              " 1.4483329057693481,\n",
              " 1.499366283416748,\n",
              " 1.5493789911270142,\n",
              " 1.5983914136886597,\n",
              " 1.646423578262329,\n",
              " 1.6934951543807983,\n",
              " 1.7396252155303955,\n",
              " 1.7848327159881592,\n",
              " 1.8291360139846802,\n",
              " 1.8725533485412598,\n",
              " 1.915102243423462,\n",
              " 1.9568002223968506,\n",
              " 1.997664213180542,\n",
              " 2.0377109050750732,\n",
              " 2.0769567489624023,\n",
              " 2.115417718887329,\n",
              " 2.153109312057495,\n",
              " 2.190047025680542,\n",
              " 2.2262461185455322,\n",
              " 2.261721134185791,\n",
              " 2.2964866161346436,\n",
              " 2.330556869506836,\n",
              " 2.363945722579956,\n",
              " 2.3966667652130127,\n",
              " 2.4287333488464355,\n",
              " 2.460158586502075,\n",
              " 2.490955352783203,\n",
              " 2.5211362838745117,\n",
              " 2.550713539123535,\n",
              " 2.5796992778778076,\n",
              " 2.608105182647705,\n",
              " 2.6359431743621826,\n",
              " 2.663224220275879,\n",
              " 2.689959764480591,\n",
              " 2.716160535812378,\n",
              " 2.7418372631073,\n",
              " 2.767000436782837,\n",
              " 2.7916603088378906,\n",
              " 2.8158271312713623,\n",
              " 2.839510679244995,\n",
              " 2.862720489501953,\n",
              " 2.8854660987854004,\n",
              " 2.907756805419922,\n",
              " 2.9296016693115234,\n",
              " 2.951009750366211,\n",
              " 2.971989631652832,\n",
              " 2.9925498962402344,\n",
              " 3.0126988887786865,\n",
              " 3.032444953918457,\n",
              " 3.0517959594726562,\n",
              " 3.0707600116729736,\n",
              " 3.0893447399139404,\n",
              " 3.107557773590088,\n",
              " 3.125406503677368,\n",
              " 3.1428983211517334,\n",
              " 3.1600403785705566,\n",
              " 3.176839590072632,\n",
              " 3.193302869796753,\n",
              " 3.2094368934631348,\n",
              " 3.225248098373413,\n",
              " 3.2407431602478027,\n",
              " 3.2559282779693604,\n",
              " 3.2708096504211426,\n",
              " 3.285393476486206,\n",
              " 3.2996857166290283,\n",
              " 3.313692092895508,\n",
              " 3.327418327331543,\n",
              " 3.340869903564453,\n",
              " 3.3540525436401367,\n",
              " 3.366971492767334,\n",
              " 3.379631996154785,\n",
              " 3.3920392990112305,\n",
              " 3.404198408126831,\n",
              " 3.416114330291748,\n",
              " 3.4277920722961426,\n",
              " 3.4392361640930176,\n",
              " 3.450451374053955,\n",
              " 3.461442232131958,\n",
              " 3.4722132682800293,\n",
              " 3.482769012451172,\n",
              " 3.4931135177612305,\n",
              " 3.503251314163208,\n",
              " 3.51318621635437,\n",
              " 3.5229225158691406,\n",
              " 3.532464027404785,\n",
              " 3.5418148040771484,\n",
              " 3.550978422164917,\n",
              " 3.5599589347839355,\n",
              " 3.5687596797943115,\n",
              " 3.5773844718933105,\n",
              " 3.585836887359619,\n",
              " 3.5941202640533447,\n",
              " 3.6022379398345947,\n",
              " 3.6101932525634766,\n",
              " 3.6179893016815186,\n",
              " 3.625629425048828,\n",
              " 3.6331167221069336,\n",
              " 3.6404542922973633,\n",
              " 3.6476452350616455,\n",
              " 3.6546924114227295,\n",
              " 3.6615986824035645,\n",
              " 3.6683666706085205,\n",
              " 3.674999237060547,\n",
              " 3.6814992427825928,\n",
              " 3.6878693103790283,\n",
              " 3.6941118240356445,\n",
              " 3.7002296447753906,\n",
              " 3.7062251567840576,\n",
              " 3.7121007442474365,\n",
              " 3.7178587913513184,\n",
              " 3.723501682281494,\n",
              " 3.729031562805176,\n",
              " 3.7344508171081543,\n",
              " 3.7397618293762207,\n",
              " 3.744966506958008,\n",
              " 3.7500672340393066,\n",
              " 3.75506591796875,\n",
              " 3.75996470451355,\n",
              " 3.764765501022339,\n",
              " 3.76947021484375,\n",
              " 3.774080753326416,\n",
              " 3.7785990238189697,\n",
              " 3.783026933670044,\n",
              " 3.7873663902282715,\n",
              " 3.791619062423706,\n",
              " 3.7957866191864014,\n",
              " 3.7998709678649902,\n",
              " 3.8038735389709473,\n",
              " 3.807796001434326,\n",
              " 3.8116400241851807,\n",
              " 3.8154072761535645,\n",
              " 3.819099187850952,\n",
              " 3.8227171897888184,\n",
              " 3.826262950897217,\n",
              " 3.829737663269043,\n",
              " 3.8331429958343506,\n",
              " 3.836480140686035,\n",
              " 3.8397505283355713,\n",
              " 3.8429555892944336,\n",
              " 3.8460965156555176,\n",
              " 3.8491744995117188,\n",
              " 3.8521909713745117,\n",
              " 3.855147123336792,\n",
              " 3.858044147491455,\n",
              " 3.8608832359313965,\n",
              " 3.8636655807495117,\n",
              " 3.8663923740386963,\n",
              " 3.8690645694732666,\n",
              " 3.871683359146118,\n",
              " 3.8742496967315674,\n",
              " 3.8767647743225098,\n",
              " 3.8792295455932617,\n",
              " 3.8816449642181396,\n",
              " 3.88401198387146,\n",
              " 3.886331796646118,\n",
              " 3.8886051177978516,\n",
              " 3.8908329010009766,\n",
              " 3.8930163383483887,\n",
              " 3.895155906677246,\n",
              " 3.8972527980804443,\n",
              " 3.8993077278137207,\n",
              " 3.9013216495513916,\n",
              " 3.9032952785491943,\n",
              " 3.905229330062866,\n",
              " 3.9071247577667236,\n",
              " 3.908982276916504,\n",
              " 3.9108026027679443,\n",
              " 3.9125864505767822,\n",
              " 3.914334774017334,\n",
              " 3.916048049926758,\n",
              " 3.917726993560791,\n",
              " 3.91937255859375,\n",
              " 3.920985221862793,\n",
              " 3.922565460205078,\n",
              " 3.924114227294922,\n",
              " 3.9256319999694824,\n",
              " 3.927119255065918,\n",
              " 3.928576946258545,\n",
              " 3.9300053119659424,\n",
              " 3.9314053058624268,\n",
              " 3.932777166366577,\n",
              " 3.934121608734131,\n",
              " 3.935439109802246,\n",
              " 3.93673038482666,\n",
              " 3.937995672225952,\n",
              " 3.9392356872558594,\n",
              " 3.94045090675354,\n",
              " 3.9416418075561523,\n",
              " 3.9428088665008545,\n",
              " 3.943952798843384,\n",
              " 3.9450738430023193,\n",
              " 3.9461724758148193,\n",
              " 3.947248935699463,\n",
              " 3.9483039379119873,\n",
              " 3.949337959289551,\n",
              " 3.9503512382507324,\n",
              " 3.9513442516326904,\n",
              " 3.952317476272583,\n",
              " 3.9532711505889893,\n",
              " 3.9542057514190674,\n",
              " 3.9551215171813965,\n",
              " 3.956019163131714,\n",
              " 3.9568986892700195,\n",
              " 3.957760810852051,\n",
              " 3.9586055278778076,\n",
              " 3.9594333171844482,\n",
              " 3.960244655609131,\n",
              " 3.9610397815704346,\n",
              " 3.9618189334869385,\n",
              " 3.962582588195801,\n",
              " 3.9633309841156006,\n",
              " 3.964064359664917,\n",
              " 3.964783191680908,\n",
              " 3.965487480163574,\n",
              " 3.9661777019500732,\n",
              " 3.9668540954589844,\n",
              " 3.9675168991088867,\n",
              " 3.9681665897369385,\n",
              " 3.9688031673431396,\n",
              " 3.9694271087646484,\n",
              " 3.970038652420044,\n",
              " 3.970637798309326,\n",
              " 3.9712250232696533,\n",
              " 3.9718005657196045,\n",
              " 3.972364664077759,\n",
              " 3.972917318344116,\n",
              " 3.973459005355835,\n",
              " 3.973989725112915,\n",
              " 3.9745099544525146,\n",
              " 3.975019693374634,\n",
              " 3.9755191802978516,\n",
              " 3.976008892059326,\n",
              " 3.9764888286590576,\n",
              " 3.976958990097046,\n",
              " 3.977419853210449,\n",
              " 3.9778714179992676,\n",
              " 3.97831392288208,\n",
              " 3.978747606277466,\n",
              " 3.979172706604004,\n",
              " 3.9795892238616943,\n",
              " 3.979997396469116,\n",
              " 3.9803974628448486,\n",
              " 3.9807894229888916,\n",
              " 3.981173515319824,\n",
              " 3.9815499782562256,\n",
              " 3.981919050216675,\n",
              " 3.982280731201172,\n",
              " 3.982635021209717,\n",
              " 3.9829823970794678,\n",
              " 3.983322858810425,\n",
              " 3.983656406402588,\n",
              " 3.983983278274536,\n",
              " 3.9843037128448486,\n",
              " 3.9846177101135254,\n",
              " 3.9849252700805664,\n",
              " 3.98522686958313,\n",
              " 3.9855222702026367,\n",
              " 3.985811710357666,\n",
              " 3.986095428466797,\n",
              " 3.9863734245300293,\n",
              " 3.9866459369659424,\n",
              " 3.986912965774536,\n",
              " 3.9871747493743896,\n",
              " 3.987431287765503,\n",
              " 3.987682580947876,\n",
              " 3.987928867340088,\n",
              " 3.9881703853607178,\n",
              " 3.9884068965911865,\n",
              " 3.9886388778686523,\n",
              " 3.988866090774536,\n",
              " 3.989088773727417,\n",
              " 3.989306926727295,\n",
              " 3.989520788192749,\n",
              " 3.9897303581237793,\n",
              " 3.9899356365203857,\n",
              " 3.9901368618011475,\n",
              " 3.9903340339660645,\n",
              " 3.990527391433716,\n",
              " 3.9907169342041016,\n",
              " 3.9909026622772217,\n",
              " 3.991084575653076,\n",
              " 3.991262912750244,\n",
              " 3.9914376735687256,\n",
              " 3.9916088581085205,\n",
              " 3.991776704788208,\n",
              " 3.991941213607788,\n",
              " 3.9921023845672607,\n",
              " 3.992260456085205,\n",
              " 3.992415189743042,\n",
              " 3.9925668239593506,\n",
              " 3.99271559715271,\n",
              " 3.992861270904541,\n",
              " 3.993004083633423,\n",
              " 3.9931440353393555,\n",
              " 3.993281126022339,\n",
              " 3.993415594100952,\n",
              " 3.993547201156616,\n",
              " 3.99367618560791,\n",
              " 3.993802547454834,\n",
              " 3.993926525115967,\n",
              " 3.9940478801727295,\n",
              " 3.994166851043701,\n",
              " 3.994283437728882,\n",
              " 3.9943978786468506,\n",
              " 3.9945099353790283,\n",
              " 3.994619846343994,\n",
              " 3.994727373123169,\n",
              " 3.994832754135132,\n",
              " 3.994935989379883,\n",
              " 3.995037317276001,\n",
              " 3.9951364994049072,\n",
              " 3.9952337741851807,\n",
              " 3.9953291416168213,\n",
              " 3.995422601699829,\n",
              " 3.995514154434204,\n",
              " 3.9956037998199463,\n",
              " 3.9956917762756348,\n",
              " 3.9957778453826904,\n",
              " 3.9958622455596924,\n",
              " 3.9959449768066406,\n",
              " 3.996026039123535,\n",
              " 3.996105432510376,\n",
              " 3.996183395385742,\n",
              " 3.9962596893310547,\n",
              " 3.9963345527648926,\n",
              " 3.9964077472686768,\n",
              " 3.9964795112609863,\n",
              " 3.9965498447418213,\n",
              " 3.9966187477111816,\n",
              " 3.9966864585876465,\n",
              " 3.9967527389526367,\n",
              " 3.9968175888061523,\n",
              " 3.9968812465667725,\n",
              " 3.996943712234497,\n",
              " 3.997004747390747,\n",
              " 3.9970645904541016,\n",
              " 3.9971232414245605,\n",
              " 3.997180700302124,\n",
              " 3.997237205505371,\n",
              " 3.9972925186157227,\n",
              " 3.9973466396331787,\n",
              " 3.9973998069763184,\n",
              " 3.9974517822265625,\n",
              " 3.9975028038024902,\n",
              " 3.9975526332855225,\n",
              " 3.9976015090942383,\n",
              " 3.9976494312286377,\n",
              " 3.9976963996887207,\n",
              " 3.9977424144744873,\n",
              " 3.9977874755859375,\n",
              " 3.9978318214416504,\n",
              " 3.997875213623047,\n",
              " 3.997917652130127,\n",
              " 3.9979593753814697,\n",
              " 3.998000144958496,\n",
              " 3.998040199279785,\n",
              " 3.998079299926758,\n",
              " 3.998117685317993,\n",
              " 3.998155355453491,\n",
              " 3.998192310333252,\n",
              " 3.9982285499572754,\n",
              " 3.9982640743255615,\n",
              " 3.9982988834381104,\n",
              " 3.998332977294922,\n",
              " 3.998366355895996,\n",
              " 3.998399019241333,\n",
              " 3.9984309673309326,\n",
              " 3.998462438583374,\n",
              " 3.998493194580078,\n",
              " 3.998523235321045,\n",
              " 3.9985527992248535,\n",
              " 3.998581647872925,\n",
              " 3.998610019683838,\n",
              " 3.9986379146575928,\n",
              " 3.9986650943756104,\n",
              " 3.9986917972564697,\n",
              " 3.998718023300171,\n",
              " 3.998743772506714,\n",
              " 3.9987688064575195,\n",
              " 3.998793363571167,\n",
              " 3.9988174438476562,\n",
              " 3.9988410472869873,\n",
              " 3.99886417388916,\n",
              " 3.998886823654175,\n",
              " 3.9989089965820312,\n",
              " 3.9989309310913086,\n",
              " 3.9989523887634277,\n",
              " 3.9989733695983887,\n",
              " 3.9989938735961914,\n",
              " 3.999013900756836,\n",
              " 3.9990336894989014,\n",
              " 3.9990530014038086,\n",
              " 3.9990718364715576,\n",
              " 3.9990904331207275,\n",
              " 3.9991085529327393,\n",
              " 3.999126434326172,\n",
              " 3.9991438388824463,\n",
              " 3.9991610050201416,\n",
              " 3.9991776943206787,\n",
              " 3.9991941452026367,\n",
              " 3.9992103576660156,\n",
              " 3.9992260932922363,\n",
              " 3.999241590499878,\n",
              " 3.9992568492889404,\n",
              " 3.9992716312408447,\n",
              " 3.99928617477417,\n",
              " 3.999300479888916,\n",
              " 3.999314546585083,\n",
              " 3.999328136444092,\n",
              " 3.9993414878845215,\n",
              " 3.999354600906372,\n",
              " 3.9993674755096436,\n",
              " 3.999380111694336,\n",
              " 3.999392509460449,\n",
              " 3.9994046688079834,\n",
              " 3.9994165897369385,\n",
              " 3.9994282722473145,\n",
              " 3.9994397163391113,\n",
              " 3.999450922012329,\n",
              " 3.9994618892669678,\n",
              " 3.9994726181030273,\n",
              " 3.999483108520508,\n",
              " 3.999493360519409,\n",
              " 3.9995036125183105,\n",
              " 3.999513626098633,\n",
              " 3.999523401260376,\n",
              " 3.99953293800354,\n",
              " 3.999542236328125,\n",
              " 3.999551296234131,\n",
              " 3.9995603561401367,\n",
              " 3.9995691776275635,\n",
              " 3.999577760696411,\n",
              " 3.9995861053466797,\n",
              " 3.9995944499969482,\n",
              " 3.9996025562286377,\n",
              " 3.999610424041748,\n",
              " 3.9996182918548584,\n",
              " 3.9996259212493896,\n",
              " 3.999633312225342,\n",
              " 3.999640703201294,\n",
              " 3.999647855758667,\n",
              " 3.99965500831604,\n",
              " 3.999661922454834,\n",
              " 3.999668598175049,\n",
              " 3.9996752738952637,\n",
              " 3.9996817111968994,\n",
              " 3.999688148498535,\n",
              " 3.999694347381592,\n",
              " 3.9997005462646484,\n",
              " 3.999706506729126,\n",
              " 3.9997124671936035,\n",
              " 3.999718189239502,\n",
              " 3.9997239112854004,\n",
              " 3.9997293949127197,\n",
              " 3.999734878540039,\n",
              " 3.9997401237487793,\n",
              " 3.9997453689575195,\n",
              " 3.9997503757476807,\n",
              " 3.999755382537842,\n",
              " 3.999760389328003,\n",
              " 3.999765157699585,\n",
              " 3.999769926071167,\n",
              " 3.99977445602417,\n",
              " 3.999778985977173,\n",
              " 3.999783515930176,\n",
              " 3.9997878074645996,\n",
              " 3.9997920989990234,\n",
              " 3.999796152114868,\n",
              " 3.999800205230713]"
            ]
          },
          "metadata": {},
          "execution_count": 3
        }
      ]
    },
    {
      "cell_type": "code",
      "source": [
        "n = torch.tensor([1])"
      ],
      "metadata": {
        "id": "qF81kUL4lmSi"
      },
      "execution_count": 9,
      "outputs": []
    },
    {
      "cell_type": "code",
      "source": [
        "type(n.item())"
      ],
      "metadata": {
        "id": "nwMeoW3mlxEp",
        "outputId": "f4b8af34-da26-4626-f428-9b6ec6355a7b",
        "colab": {
          "base_uri": "https://localhost:8080/"
        }
      },
      "execution_count": 11,
      "outputs": [
        {
          "output_type": "execute_result",
          "data": {
            "text/plain": [
              "int"
            ]
          },
          "metadata": {},
          "execution_count": 11
        }
      ]
    },
    {
      "cell_type": "markdown",
      "metadata": {
        "id": "pC7czCwk3ceH"
      },
      "source": [
        "Now, we have covered the fundamental concepts of PyTorch -- tensors, operations, neural networks, and automatic differentiation. Fire!!\n"
      ]
    }
  ],
  "metadata": {
    "colab": {
      "collapsed_sections": [
        "WBk0ZDWY-ff8"
      ],
      "name": "PT_Part1_Intro.ipynb",
      "provenance": [],
      "include_colab_link": true
    },
    "kernelspec": {
      "display_name": "Python 3",
      "name": "python3"
    },
    "language_info": {
      "codemirror_mode": {
        "name": "ipython",
        "version": 3
      },
      "file_extension": ".py",
      "mimetype": "text/x-python",
      "name": "python",
      "nbconvert_exporter": "python",
      "pygments_lexer": "ipython3",
      "version": "3.10.6"
    },
    "vscode": {
      "interpreter": {
        "hash": "31f2aee4e71d21fbe5cf8b01ff0e069b9275f58929596ceb00d14d90e3e16cd6"
      }
    }
  },
  "nbformat": 4,
  "nbformat_minor": 0
}